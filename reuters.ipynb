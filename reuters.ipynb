{
 "cells": [
  {
   "cell_type": "code",
   "execution_count": 1,
   "metadata": {},
   "outputs": [
    {
     "name": "stderr",
     "output_type": "stream",
     "text": [
      "Using TensorFlow backend.\n"
     ]
    }
   ],
   "source": [
    "from nltk.corpus import reuters\n",
    "from nltk import word_tokenize\n",
    "from nltk.tokenize import sent_tokenize\n",
    "from nltk.tokenize.toktok import ToktokTokenizer \n",
    "import treetaggerwrapper\n",
    "import pandas as pd\n",
    "import numpy as np\n",
    "import seaborn as sns\n",
    "\n",
    "import matplotlib.pyplot as plt\n",
    "%matplotlib inline  \n",
    "\n",
    "from textblob import TextBlob\n",
    "from textblob.translate import NotTranslated\n",
    "\n",
    "from sklearn.neighbors import KNeighborsClassifier\n",
    "from sklearn.feature_extraction.text import TfidfVectorizer\n",
    "from sklearn.preprocessing import MultiLabelBinarizer\n",
    "from sklearn.metrics import roc_auc_score\n",
    "from sklearn.ensemble import RandomForestClassifier\n",
    "\n",
    "from keras.callbacks import Callback\n",
    "from keras.preprocessing.text import Tokenizer\n",
    "from keras.preprocessing.sequence import pad_sequences\n",
    "from keras.layers import Activation, Input, Dropout, Dense, Embedding, GlobalMaxPool1D, MaxPooling1D, Flatten, Bidirectional, LSTM \n",
    "from keras.models import Model\n",
    "from keras.optimizers import Adam\n",
    "from keras import backend as K\n",
    "\n",
    "from multiprocessing import Pool\n",
    "from functools import partial\n",
    "import string\n",
    "import io\n",
    "from joblib import Parallel, delayed\n",
    "import itertools\n",
    "import time\n",
    "import tqdm\n",
    "import warnings\n",
    "warnings.filterwarnings(\"ignore\")"
   ]
  },
  {
   "cell_type": "code",
   "execution_count": 42,
   "metadata": {},
   "outputs": [],
   "source": [
    "# functions for preprocessing\n",
    "\n",
    "table = {ord(char): u' ' for char in string.punctuation}\n",
    "toktok = ToktokTokenizer()\n",
    "\n",
    "# remove punctuation\n",
    "# tokenize the text\n",
    "# remove out-of-vocab tokens \n",
    "def clean_text(text, vocab=set(), lang='english'):   \n",
    "    \n",
    "    text = text.decode('utf-8')\n",
    "    #for py3:\n",
    "    #text = text.lower().translate(str.maketrans('','',string.punctuation))  \n",
    "    text = text.lower()\n",
    "    table = string.maketrans(string.punctuation, ' '*len(string.punctuation))  \n",
    "    if lang=='english':\n",
    "        tokens = word_tokenize(text) \n",
    "    else:\n",
    "        tokens = toktok.tokenize(text, return_str=False)\n",
    "        \n",
    "    if vocab:\n",
    "        tokens = [x for x in tokens if x in vocab]\n",
    "    joined = ' '.join(tokens).encode('utf-8')\n",
    "    joined = str(joined)\n",
    "    return joined\n",
    "\n",
    "# translate a chuck of text word-by-word using embeddings \n",
    "# (of course, a lot of info will be lost this way \n",
    "# but it may be sufficient for bag-of-words/bag-of-embeddings \n",
    "# representation in classification tasks)\n",
    "def translate_with_embeddings(text, src_emb, src_id2word, tgt_emb, tgt_id2word):\n",
    "    text = text.split()\n",
    "    text = [get_nn(word, src_emb, src_id2word, tgt_emb, tgt_id2word)[0] for word in text]\n",
    "    text = ' '.join(text)\n",
    "    return text\n",
    "\n",
    "# translate a chuck of text word-by-word using \n",
    "# bilingual dictionary (provided by FB MUSE)\n",
    "def translate_with_dict(text, dictionary, vocab=set()):\n",
    "    text = text.split()\n",
    "    text = [dictionary[x] for x in text if x in dictionary]\n",
    "    if vocab:\n",
    "        text = [x for x in text if x in vocab]\n",
    "    text = ' '.join(text)\n",
    "    return text\n",
    "\n",
    "# translate a sentence using google API \n",
    "def translate_sentence_with_google(text, language):    \n",
    "    try:        \n",
    "        if hasattr(text, 'decode'):\n",
    "            text = text.decode('utf-8')\n",
    "        text = TextBlob(text)\n",
    "        text = text.translate(to=language)\n",
    "        return str(text)\n",
    "    except NotTranslated:\n",
    "        return str(text)\n",
    "    except Exception, e:\n",
    "        print('Failed to translate : {}'.format(str(e)))\n",
    "        return ''\n",
    "\n",
    "# translate a chunk of text (multiple sentences) using google API \n",
    "def translate_text_with_google(text, language):\n",
    "    sentences = sent_tokenize(text)\n",
    "    translated = [translate_sentence_with_google(sent, language) for sent in sentences]\n",
    "    return ' '.join(translated).strip()"
   ]
  },
  {
   "cell_type": "code",
   "execution_count": 28,
   "metadata": {},
   "outputs": [],
   "source": [
    "# utils functions\n",
    "\n",
    "# get k-closest to word_emb indices in the embeddings matrix\n",
    "def get_closest(word_emb, embeddings, K=1):\n",
    "    word_emb = np.array(word_emb)\n",
    "    scores = (embeddings / np.linalg.norm(embeddings, 2, 1)[:, None]).dot(word_emb / np.linalg.norm(word_emb))\n",
    "    k_best = scores.argsort()[-K:][::-1]\n",
    "    return k_best\n",
    "\n",
    "# loading fastText files\n",
    "# source: https://github.com/facebookresearch/MUSE/blob/master/demo.ipynb\n",
    "def load_vec(emb_path, nmax=100000):\n",
    "    vectors = []\n",
    "    word2id = {}\n",
    "    with io.open(emb_path, 'r', encoding='utf-8', newline='\\n', errors='ignore') as f:\n",
    "        next(f)\n",
    "        for i, line in enumerate(f):\n",
    "            word, vect = line.rstrip().split(' ', 1)\n",
    "            vect = np.fromstring(vect, sep=' ')\n",
    "            assert word not in word2id, 'word found twice'\n",
    "            vectors.append(vect)\n",
    "            word2id[word] = len(word2id)\n",
    "            if len(word2id) == nmax:\n",
    "                break\n",
    "    id2word = {v: k for k, v in word2id.items()}\n",
    "    embeddings = np.vstack(vectors)\n",
    "    return embeddings, id2word, word2id\n",
    "\n",
    "def get_nn(word, src_emb, src_id2word, tgt_emb, tgt_id2word, K=1):\n",
    "    word2id = {v: k for k, v in src_id2word.items()}\n",
    "    word_emb = src_emb[word2id[word]]\n",
    "    k_best = get_closest(word_emb, tgt_emb, K=K)\n",
    "    words = [tgt_id2word[i] for i in k_best]\n",
    "    return words\n",
    "\n",
    "def load_dict(filename):\n",
    "    d = {}\n",
    "    f = open(filename)\n",
    "    lines = f.readlines()\n",
    "    for line in lines:\n",
    "        line = line.split()\n",
    "        if len(line)==2:\n",
    "            d[line[0]] = line[1]\n",
    "    f.close()\n",
    "    return d "
   ]
  },
  {
   "cell_type": "code",
   "execution_count": 46,
   "metadata": {},
   "outputs": [],
   "source": [
    "# functions for modelling\n",
    "\n",
    "def create_mlp(input_shape, classes=90):\n",
    "    inp = Input(shape=input_shape)\n",
    "    x = Dense(256, activation='relu')(inp)\n",
    "    x = Dropout(0.1)(x)\n",
    "    x = Dense(256, activation='relu')(x)\n",
    "    x = Dense(classes)(x)\n",
    "    x = Activation('sigmoid')(x)\n",
    "    model = Model(inputs=inp, outputs=x)\n",
    "    model.compile(loss='binary_crossentropy', optimizer='adam', metrics=[recall, precision])\n",
    "    return model\n",
    "\n",
    "def create_model_with_embeddings(embedding_matrix, classes=90, maxlen=650):    \n",
    "    dim = embedding_matrix.shape[1]\n",
    "    max_features = embedding_matrix.shape[0]    \n",
    "    inp = Input(shape=(maxlen,))\n",
    "    x = Embedding(max_features, dim, weights=[embedding_matrix])(inp)\n",
    "    x = Dense(300, activation='relu')(x)\n",
    "    x = GlobalMaxPool1D()(x)\n",
    "    x = Dense(classes, activation='sigmoid')(x)\n",
    "    model = Model(inputs=inp, outputs=x)\n",
    "    model.compile(loss='binary_crossentropy', optimizer='adam', metrics=[recall, precision])\n",
    "    return model\n",
    "\n",
    "# construct embedding matrix that will be used as initialization \n",
    "# to Keras embedding layer\n",
    "# make sure that all words in tokenizer.word_index are in word2id vocab\n",
    "def get_embedding_matrix(embeddings, word2id, tokenizer):\n",
    "    vocab = []\n",
    "    dim = embeddings[0].shape[0]\n",
    "    emb_mean,emb_std = embeddings.mean(), embeddings.std()\n",
    "    word_index = tokenizer.word_index\n",
    "    n_words = min(max_features, len(word_index))   \n",
    "    embedding_matrix = np.random.normal(emb_mean, emb_std, (n_words+1, dim))\n",
    "    for word, i in word_index.items():\n",
    "        if i >= max_features: continue\n",
    "        embedding_vector = embeddings[word2id[word]]\n",
    "        if embedding_vector is not None: \n",
    "            embedding_matrix[i] = embedding_vector\n",
    "            vocab += [word]\n",
    "    return embedding_matrix, vocab\n",
    "\n",
    "# preprocessing pipeline for MLP with Embedding layer\n",
    "def preprocessing_emb(df, on, max_features=30000, maxlen=650):\n",
    "    \n",
    "    tokenizer = Tokenizer(num_words=max_features)\n",
    "    tokenizer.fit_on_texts(df[on])\n",
    "\n",
    "    X_train_tokenized = tokenizer.texts_to_sequences(reuters_df[on][reuters_df['split']=='training'])\n",
    "    X_test_tokenized = tokenizer.texts_to_sequences(reuters_df[on][reuters_df['split']=='test'])\n",
    "\n",
    "    X_train_padded = pad_sequences(X_train_tokenized, maxlen=maxlen)\n",
    "    X_test_padded = pad_sequences(X_test_tokenized, maxlen=maxlen)\n",
    "    \n",
    "    return X_train_padded, X_test_padded, tokenizer    "
   ]
  },
  {
   "cell_type": "code",
   "execution_count": 4,
   "metadata": {},
   "outputs": [],
   "source": [
    "# metrics for multilabel classification\n",
    "\n",
    "# source: https://github.com/fchollet/keras/issues/5400#issuecomment-314747992\n",
    "def recall(y_true, y_pred, mode='keras'):\n",
    "    if mode == 'keras':\n",
    "        x = K\n",
    "    else:\n",
    "        x = np\n",
    "    true_positives = x.sum(x.round(x.clip(y_true * y_pred, 0, 1)))\n",
    "    possible_positives = x.sum(x.round(x.clip(y_true, 0, 1)))\n",
    "    recall = true_positives / (possible_positives + K.epsilon())        \n",
    "    return recall\n",
    "\n",
    "def precision(y_true, y_pred, mode='keras'):   \n",
    "    if mode == 'keras':\n",
    "        x = K\n",
    "    else:\n",
    "        x = np\n",
    "    true_positives = x.sum(x.round(x.clip(y_true * y_pred,0, 1)))\n",
    "    predicted_positives = x.sum(x.round(x.clip(y_pred,0, 1)))\n",
    "    precision = true_positives / (predicted_positives + K.epsilon())\n",
    "    return precision\n",
    "\n",
    "# source: https://github.com/keras-team/keras/issues/3230#issuecomment-319208366\n",
    "class roc_callback(Callback):\n",
    "    def __init__(self,training_data,validation_data):\n",
    "        self.x = training_data[0]\n",
    "        self.y = training_data[1]\n",
    "        self.x_val = validation_data[0]\n",
    "        self.y_val = validation_data[1]\n",
    "\n",
    "    def on_train_begin(self, logs={}):\n",
    "        return\n",
    "\n",
    "    def on_train_end(self, logs={}):\n",
    "        return\n",
    "\n",
    "    def on_epoch_begin(self, epoch, logs={}):\n",
    "        return\n",
    "\n",
    "    def on_epoch_end(self, epoch, logs={}):\n",
    "        y_pred = self.model.predict(self.x)\n",
    "        roc = roc_auc_score(self.y, y_pred)\n",
    "        y_pred_val = self.model.predict(self.x_val)\n",
    "        roc_val = roc_auc_score(self.y_val, y_pred_val)\n",
    "        print('\\rroc-auc: {} - roc-auc_val: {}'.format(round(roc,4), round(roc_val,4)))        \n",
    "        logs['roc-auc'] = round(roc,4)\n",
    "        logs['val_roc-auc'] = round(roc_val,4)\n",
    "        return\n",
    "\n",
    "    def on_batch_begin(self, batch, logs={}):\n",
    "        return\n",
    "\n",
    "    def on_batch_end(self, batch, logs={}):\n",
    "        return"
   ]
  },
  {
   "cell_type": "code",
   "execution_count": 5,
   "metadata": {},
   "outputs": [],
   "source": [
    "# visualization functions\n",
    "\n",
    "metrics = [('precision','val_precision'), ('recall','val_recall'), ('roc-auc','val_roc-auc')]\n",
    "\n",
    "def plot_learning(history, metrics=metrics):\n",
    "    for training, test in metrics:\n",
    "        plt.plot(history.history[training])\n",
    "        plt.plot(history.history[test])\n",
    "        plt.title('model {}'.format(training))\n",
    "        plt.ylabel(training)\n",
    "        plt.xlabel('epoch')\n",
    "        plt.legend(['train', 'test'], loc='upper left')\n",
    "        plt.show()"
   ]
  },
  {
   "cell_type": "raw",
   "metadata": {},
   "source": []
  },
  {
   "cell_type": "markdown",
   "metadata": {},
   "source": [
    "***EXPLORATION***"
   ]
  },
  {
   "cell_type": "code",
   "execution_count": 6,
   "metadata": {},
   "outputs": [
    {
     "name": "stdout",
     "output_type": "stream",
     "text": [
      "Total number of docs: 10788\n",
      "Train/test set: 7769/3019\n"
     ]
    }
   ],
   "source": [
    "documents = reuters.fileids()\n",
    "train = list(filter(lambda doc: doc.startswith('train'), documents))\n",
    "test = list(filter(lambda doc: doc.startswith('test'), documents));\n",
    "\n",
    "print('Total number of docs: {}'.format(len(documents)))\n",
    "print('Train/test set: {}/{}'.format(len(train),len(test)))"
   ]
  },
  {
   "cell_type": "code",
   "execution_count": 7,
   "metadata": {},
   "outputs": [
    {
     "name": "stdout",
     "output_type": "stream",
     "text": [
      "Total number of categories: 90\n"
     ]
    }
   ],
   "source": [
    "categories = reuters.categories()\n",
    "print('Total number of categories: {}'.format(len(categories)))"
   ]
  },
  {
   "cell_type": "code",
   "execution_count": 8,
   "metadata": {},
   "outputs": [],
   "source": [
    "columns = ['text','split','id','categories']\n",
    "reuters_df = pd.DataFrame(columns=columns)\n",
    "text = [reuters.raw(d) for d in documents]\n",
    "splits = zip(*[d.split('/') for d in documents])\n",
    "categories = [reuters.categories(d) for d in documents]\n",
    "\n",
    "reuters_df['text'] = text\n",
    "reuters_df['split'] = splits[0]\n",
    "reuters_df['id'] = splits[1]\n",
    "reuters_df['categories'] = categories\n",
    "reuters_df['num_categories'] = reuters_df['categories'].apply(lambda x: len(x))"
   ]
  },
  {
   "cell_type": "code",
   "execution_count": 9,
   "metadata": {},
   "outputs": [
    {
     "data": {
      "image/png": "[encoded data removed]",
      "text/plain": [
       "<matplotlib.figure.Figure at 0x102d0af10>"
      ]
     },
     "metadata": {},
     "output_type": "display_data"
    }
   ],
   "source": [
    "sns.countplot(x='num_categories', data=reuters_df, palette='muted');"
   ]
  },
  {
   "cell_type": "code",
   "execution_count": 10,
   "metadata": {},
   "outputs": [
    {
     "data": {
      "image/png": "[encoded data removed]",
      "text/plain": [
       "<matplotlib.figure.Figure at 0x114737d90>"
      ]
     },
     "metadata": {},
     "output_type": "display_data"
    }
   ],
   "source": [
    "reuters_df['n_words'] = reuters_df['text'].apply(lambda x: len(x.lower().split()))\n",
    "sns.distplot(reuters_df['n_words']);"
   ]
  },
  {
   "cell_type": "raw",
   "metadata": {},
   "source": []
  },
  {
   "cell_type": "markdown",
   "metadata": {},
   "source": [
    "***PREPROCESSING***"
   ]
  },
  {
   "cell_type": "code",
   "execution_count": 11,
   "metadata": {},
   "outputs": [],
   "source": [
    "en_embeddings, en_id2word, en_word2id = load_vec('embeddings/wiki.multi.en.vec')\n",
    "fr_embeddings, fr_id2word, fr_word2id = load_vec('embeddings/wiki.multi.fr.vec')\n",
    "de_embeddings, de_id2word, de_word2id = load_vec('embeddings/wiki.multi.de.vec')"
   ]
  },
  {
   "cell_type": "code",
   "execution_count": 12,
   "metadata": {},
   "outputs": [],
   "source": [
    "reuters_df['text'] = reuters_df['text'].apply(lambda x: x.encode('ascii',errors='ignore')) "
   ]
  },
  {
   "cell_type": "code",
   "execution_count": 13,
   "metadata": {},
   "outputs": [
    {
     "name": "stdout",
     "output_type": "stream",
     "text": [
      "Translating text using de language\n",
      "Number of nontranslated entries: 0\n",
      "Translating text using fr language\n",
      "Number of nontranslated entries: 0\n"
     ]
    }
   ],
   "source": [
    "# translating with google api to get some aproximation of ground truth \n",
    "parallel = Parallel(100, backend='threading', verbose=0)\n",
    "\n",
    "for lang in ['de', 'fr']:\n",
    "    print('Translating text using {0} language'.format(lang))\n",
    "    translated_data = parallel(delayed(translate_text_with_google)(comment, lang) for comment in reuters_df['text'].values)\n",
    "    nones = len([True for x in translated_data if x==''])\n",
    "    print('Number of nontranslated entries: {}'.format(nones))\n",
    "    reuters_df['text_{}'.format(lang)] = translated_data"
   ]
  },
  {
   "cell_type": "code",
   "execution_count": 14,
   "metadata": {},
   "outputs": [
    {
     "name": "stdout",
     "output_type": "stream",
     "text": [
      "TFIDF Vocab size: 26277\n"
     ]
    }
   ],
   "source": [
    "# default preprocessing with tf-idf vectorization (english)\n",
    "reuters_df['cleaned_text'] = reuters_df['text'].apply(lambda x: clean_text(x))\n",
    "vec = TfidfVectorizer()\n",
    "\n",
    "X_train_tfidf = vec.fit_transform(reuters_df['cleaned_text'][reuters_df['split']=='training'])\n",
    "X_test_tfidf = vec.transform(reuters_df['cleaned_text'][reuters_df['split']=='test'])\n",
    "\n",
    "n_vocab = X_train_tfidf.shape[1]\n",
    "print('TFIDF Vocab size: {}'.format(n_vocab))"
   ]
  },
  {
   "cell_type": "code",
   "execution_count": 15,
   "metadata": {},
   "outputs": [],
   "source": [
    "enc = MultiLabelBinarizer()\n",
    "y_train = enc.fit_transform(reuters_df['categories'][reuters_df['split']=='training'])\n",
    "y_test = enc.transform(reuters_df['categories'][reuters_df['split']=='test'])"
   ]
  },
  {
   "cell_type": "code",
   "execution_count": null,
   "metadata": {},
   "outputs": [],
   "source": []
  },
  {
   "cell_type": "markdown",
   "metadata": {},
   "source": [
    "***kNN CLASSIFIER***"
   ]
  },
  {
   "cell_type": "code",
   "execution_count": 16,
   "metadata": {},
   "outputs": [
    {
     "data": {
      "text/plain": [
       "KNeighborsClassifier(algorithm='auto', leaf_size=30, metric='minkowski',\n",
       "           metric_params=None, n_jobs=1, n_neighbors=5, p=2,\n",
       "           weights='uniform')"
      ]
     },
     "execution_count": 16,
     "metadata": {},
     "output_type": "execute_result"
    }
   ],
   "source": [
    "# using all words (with out-of-vocab tokens)\n",
    "knn = KNeighborsClassifier(n_neighbors=5)\n",
    "knn.fit(X_train_tfidf, y_train)"
   ]
  },
  {
   "cell_type": "code",
   "execution_count": 17,
   "metadata": {},
   "outputs": [
    {
     "name": "stdout",
     "output_type": "stream",
     "text": [
      "kNN Classifier results:\n",
      "precision score: 0.843005497836\n",
      "recall score: 0.73717948716\n",
      "auc score: 0.679310624124\n"
     ]
    }
   ],
   "source": [
    "y_pred = knn.predict(X_test_tfidf)\n",
    "precision_score = precision(y_test, y_pred, mode='')\n",
    "recall_score = recall(y_test, y_pred, mode='')\n",
    "auc_score = roc_auc_score(y_test, y_pred)\n",
    "print('kNN Classifier results:')\n",
    "print('precision score: {}'.format(precision_score))\n",
    "print('recall score: {}'.format(recall_score))\n",
    "print('auc score: {}'.format(auc_score))"
   ]
  },
  {
   "cell_type": "raw",
   "metadata": {},
   "source": []
  },
  {
   "cell_type": "markdown",
   "metadata": {},
   "source": [
    "***MULTILAYER PERCEPTRON WITH TFIDF***"
   ]
  },
  {
   "cell_type": "code",
   "execution_count": 21,
   "metadata": {},
   "outputs": [
    {
     "name": "stdout",
     "output_type": "stream",
     "text": [
      "_________________________________________________________________\n",
      "Layer (type)                 Output Shape              Param #   \n",
      "=================================================================\n",
      "input_1 (InputLayer)         (None, 26277)             0         \n",
      "_________________________________________________________________\n",
      "dense_1 (Dense)              (None, 256)               6727168   \n",
      "_________________________________________________________________\n",
      "dropout_1 (Dropout)          (None, 256)               0         \n",
      "_________________________________________________________________\n",
      "dense_2 (Dense)              (None, 256)               65792     \n",
      "_________________________________________________________________\n",
      "dense_3 (Dense)              (None, 90)                23130     \n",
      "_________________________________________________________________\n",
      "activation_1 (Activation)    (None, 90)                0         \n",
      "=================================================================\n",
      "Total params: 6,816,090\n",
      "Trainable params: 6,816,090\n",
      "Non-trainable params: 0\n",
      "_________________________________________________________________\n"
     ]
    }
   ],
   "source": [
    "input_shape = (X_train_tfidf.shape[1],)\n",
    "model_mlp = create_mlp(input_shape=input_shape)\n",
    "model_mlp.summary()"
   ]
  },
  {
   "cell_type": "code",
   "execution_count": 22,
   "metadata": {},
   "outputs": [
    {
     "name": "stdout",
     "output_type": "stream",
     "text": [
      "roc-auc: 0.781 - roc-auc_val: 0.7563\n",
      "roc-auc: 0.9255 - roc-auc_val: 0.8721\n",
      "roc-auc: 0.9754 - roc-auc_val: 0.9254\n",
      "roc-auc: 0.9905 - roc-auc_val: 0.9507\n",
      "roc-auc: 0.9957 - roc-auc_val: 0.9616\n",
      "roc-auc: 0.9986 - roc-auc_val: 0.9701\n",
      "roc-auc: 0.9994 - roc-auc_val: 0.9755\n",
      "roc-auc: 0.9998 - roc-auc_val: 0.9779\n",
      "roc-auc: 0.9999 - roc-auc_val: 0.9791\n",
      "roc-auc: 0.9999 - roc-auc_val: 0.98\n",
      "roc-auc: 1.0 - roc-auc_val: 0.9804\n",
      "roc-auc: 1.0 - roc-auc_val: 0.9805\n",
      "roc-auc: 1.0 - roc-auc_val: 0.981\n",
      "roc-auc: 1.0 - roc-auc_val: 0.9805\n",
      "roc-auc: 1.0 - roc-auc_val: 0.9797\n"
     ]
    }
   ],
   "source": [
    "n_epochs = 15\n",
    "validation_data=(X_test_tfidf, y_test)\n",
    "training_data=(X_train_tfidf, y_train)\n",
    "history_mlp = model_mlp.fit(X_train_tfidf, y_train, batch_size=64, epochs=n_epochs, \n",
    "                            validation_data=validation_data, callbacks=[roc_callback(training_data=training_data, \n",
    "                            validation_data=validation_data)], shuffle=True, verbose=0)"
   ]
  },
  {
   "cell_type": "code",
   "execution_count": 23,
   "metadata": {},
   "outputs": [
    {
     "data": {
      "image/png": "[encoded data removed]",
      "text/plain": [
       "<matplotlib.figure.Figure at 0x1149e0090>"
      ]
     },
     "metadata": {},
     "output_type": "display_data"
    }
   ],
   "source": [
    "plot_learning(history_mlp, metrics = [('roc-auc', 'val_roc-auc')])"
   ]
  },
  {
   "cell_type": "code",
   "execution_count": null,
   "metadata": {},
   "outputs": [],
   "source": [
    "'''\n",
    "y_pred = model_mlp.predict([X_test_tfidf], batch_size=1024, verbose=1)\n",
    "precision_score = precision(y_test, y_pred, mode='')\n",
    "recall_score = recall(y_test, y_pred, mode='')\n",
    "auc_score = roc_auc_score(y_test, y_pred)\n",
    "print('MLP results:')\n",
    "print('precision score: {}'.format(precision_score))\n",
    "print('recall score: {}'.format(recall_score))\n",
    "print('auc score: {}'.format(auc_score))\n",
    "'''"
   ]
  },
  {
   "cell_type": "raw",
   "metadata": {},
   "source": []
  },
  {
   "cell_type": "markdown",
   "metadata": {},
   "source": [
    "***MULTILAYER PERCEPTRON WITH EMBEDDINGS LAYER***"
   ]
  },
  {
   "cell_type": "code",
   "execution_count": 24,
   "metadata": {},
   "outputs": [],
   "source": [
    "# default preprocessing with embeddings vectorization (english), removal of out-of-vocab (oov) tokens\n",
    "vocab_en = set(en_word2id.keys())\n",
    "reuters_df['cleaned_text'] = reuters_df['text'].apply(lambda x: clean_text(x, vocab=vocab_en))\n",
    "\n",
    "X_train_padded, X_test_padded, tokenizer = preprocessing_emb(df=reuters_df, on='cleaned_text')"
   ]
  },
  {
   "cell_type": "code",
   "execution_count": 25,
   "metadata": {},
   "outputs": [
    {
     "name": "stdout",
     "output_type": "stream",
     "text": [
      "_________________________________________________________________\n",
      "Layer (type)                 Output Shape              Param #   \n",
      "=================================================================\n",
      "input_2 (InputLayer)         (None, 650)               0         \n",
      "_________________________________________________________________\n",
      "embedding_1 (Embedding)      (None, 650, 300)          5869200   \n",
      "_________________________________________________________________\n",
      "dense_4 (Dense)              (None, 650, 300)          90300     \n",
      "_________________________________________________________________\n",
      "global_max_pooling1d_1 (Glob (None, 300)               0         \n",
      "_________________________________________________________________\n",
      "dense_5 (Dense)              (None, 90)                27090     \n",
      "=================================================================\n",
      "Total params: 5,986,590\n",
      "Trainable params: 5,986,590\n",
      "Non-trainable params: 0\n",
      "_________________________________________________________________\n"
     ]
    }
   ],
   "source": [
    "matrix_en, vocab_en = get_embedding_matrix(en_embeddings, en_word2id, tokenizer)\n",
    "model_emb = create_model_with_embeddings(matrix_en)\n",
    "model_emb.summary()"
   ]
  },
  {
   "cell_type": "code",
   "execution_count": 26,
   "metadata": {},
   "outputs": [
    {
     "name": "stdout",
     "output_type": "stream",
     "text": [
      "roc-auc: 0.7553 - roc-auc_val: 0.7476\n",
      "roc-auc: 0.8071 - roc-auc_val: 0.8128\n",
      "roc-auc: 0.8292 - roc-auc_val: 0.8582\n",
      "roc-auc: 0.8594 - roc-auc_val: 0.902\n",
      "roc-auc: 0.888 - roc-auc_val: 0.9407\n",
      "roc-auc: 0.9119 - roc-auc_val: 0.9688\n",
      "roc-auc: 0.9293 - roc-auc_val: 0.988\n",
      "roc-auc: 0.9381 - roc-auc_val: 0.9954\n",
      "roc-auc: 0.9493 - roc-auc_val: 0.998\n",
      "roc-auc: 0.9558 - roc-auc_val: 0.9991\n",
      "roc-auc: 0.9614 - roc-auc_val: 0.9996\n",
      "roc-auc: 0.9645 - roc-auc_val: 0.9998\n",
      "roc-auc: 0.9669 - roc-auc_val: 0.9999\n",
      "roc-auc: 0.9661 - roc-auc_val: 0.9999\n",
      "roc-auc: 0.9672 - roc-auc_val: 0.9999\n"
     ]
    }
   ],
   "source": [
    "n_epochs = 15\n",
    "validation_data = (X_test_padded, y_test)\n",
    "training_data = (X_train_padded, y_train)\n",
    "history_emb = model_emb.fit(X_train_padded, y_train, batch_size=64, epochs=n_epochs, \n",
    "                            validation_data=validation_data, callbacks=[roc_callback(training_data=training_data, \n",
    "                            validation_data=validation_data)], shuffle=True, verbose=0)"
   ]
  },
  {
   "cell_type": "code",
   "execution_count": 33,
   "metadata": {},
   "outputs": [
    {
     "data": {
      "image/png": "[encoded data removed]",
      "text/plain": [
       "<matplotlib.figure.Figure at 0x152e97d90>"
      ]
     },
     "metadata": {},
     "output_type": "display_data"
    }
   ],
   "source": [
    "plot_learning(history_emb, metrics = [('roc-auc', 'val_roc-auc')])"
   ]
  },
  {
   "cell_type": "code",
   "execution_count": null,
   "metadata": {},
   "outputs": [],
   "source": [
    "'''\n",
    "y_pred = model.predict([X_test_padded], batch_size=1024, verbose=1)\n",
    "precision_score = precision(y_test, y_pred, mode='')\n",
    "recall_score = recall(y_test, y_pred, mode='')\n",
    "auc_score = roc_auc_score(y_test, y_pred)\n",
    "print('MLP with embeddings results:')\n",
    "print('precision score: {}'.format(precision_score))\n",
    "print('recall score: {}'.format(recall_score))\n",
    "print('auc score: {}'.format(auc_score))\n",
    "'''"
   ]
  },
  {
   "cell_type": "raw",
   "metadata": {},
   "source": []
  },
  {
   "cell_type": "markdown",
   "metadata": {},
   "source": [
    "***EXTENDING TO FRENCH AND GERMAN***\n"
   ]
  },
  {
   "cell_type": "code",
   "execution_count": 43,
   "metadata": {},
   "outputs": [],
   "source": [
    "dict_fr = load_dict('bi/en-fr.txt')\n",
    "dict_de = load_dict('bi/en-de.txt')\n",
    "\n",
    "vocab_fr = set(fr_word2id.keys())\n",
    "vocab_de = set(de_word2id.keys())"
   ]
  },
  {
   "cell_type": "code",
   "execution_count": 44,
   "metadata": {},
   "outputs": [],
   "source": [
    "# word-by-translation\n",
    "reuters_df['text_wbw_fr'] = reuters_df['cleaned_text'].apply(lambda x: translate_with_dict(x, dict_fr, vocab=vocab_fr))\n",
    "reuters_df['text_wbw_de'] = reuters_df['cleaned_text'].apply(lambda x: translate_with_dict(x, dict_de, vocab=vocab_de))"
   ]
  },
  {
   "cell_type": "code",
   "execution_count": 49,
   "metadata": {},
   "outputs": [
    {
     "name": "stdout",
     "output_type": "stream",
     "text": [
      "roc-auc: 0.7117 - roc-auc_val: 0.7162\n",
      "roc-auc: 0.7964 - roc-auc_val: 0.7979\n",
      "roc-auc: 0.8558 - roc-auc_val: 0.831\n",
      "roc-auc: 0.9031 - roc-auc_val: 0.8597\n",
      "roc-auc: 0.9366 - roc-auc_val: 0.8815\n",
      "roc-auc: 0.9615 - roc-auc_val: 0.898\n",
      "roc-auc: 0.9783 - roc-auc_val: 0.9176\n",
      "roc-auc: 0.989 - roc-auc_val: 0.9323\n",
      "roc-auc: 0.9949 - roc-auc_val: 0.9407\n",
      "roc-auc: 0.9979 - roc-auc_val: 0.9477\n"
     ]
    }
   ],
   "source": [
    "# french\n",
    "max_features = 30000\n",
    "maxlen = 650\n",
    "\n",
    "X_train_padded, X_test_padded, tokenizer = preprocessing_emb(df=reuters_df, on='text_wbw_fr')\n",
    "\n",
    "matrix_fr, vocab_fr = get_embedding_matrix(fr_embeddings, fr_word2id, tokenizer)\n",
    "model_emb = create_model_with_embeddings(matrix_fr)\n",
    "\n",
    "n_epochs = 10\n",
    "validation_data = (X_test_padded, y_test)\n",
    "training_data = (X_train_padded, y_train)\n",
    "history_emb = model_emb.fit(X_train_padded, y_train, batch_size=64, epochs=n_epochs, \n",
    "                    validation_data=validation_data, callbacks=[roc_callback(training_data=training_data, \n",
    "                    validation_data=validation_data)], shuffle=True, verbose=0)"
   ]
  },
  {
   "cell_type": "code",
   "execution_count": null,
   "metadata": {},
   "outputs": [
    {
     "data": {
      "image/png": "[encoded data removed]",
      "text/plain": [
       "<matplotlib.figure.Figure at 0x1598505d0>"
      ]
     },
     "metadata": {},
     "output_type": "display_data"
    }
   ],
   "source": [
    "plot_learning(history_emb, metrics = [('roc-auc', 'val_roc-auc')])"
   ]
  },
  {
   "cell_type": "code",
   "execution_count": null,
   "metadata": {},
   "outputs": [],
   "source": []
  },
  {
   "cell_type": "code",
   "execution_count": null,
   "metadata": {},
   "outputs": [],
   "source": [
    "# german\n",
    "\n",
    "X_train_padded, X_test_padded, tokenizer = preprocessing_emb(df=reuters_df, on='text_wbw_de')\n",
    "\n",
    "matrix_de, vocab_de = get_embedding_matrix(de_embeddings, de_word2id, tokenizer)\n",
    "model_emb = create_model_with_embeddings(matrix_de)\n",
    "\n",
    "n_epochs = 10\n",
    "validation_data = (X_test_padded, y_test)\n",
    "training_data = (X_train_padded, y_train)\n",
    "history_emb = model_emb.fit(X_train_padded, y_train, batch_size=64, epochs=n_epochs, \n",
    "                            validation_data=validation_data, callbacks=[roc_callback(training_data=training_data, \n",
    "                            validation_data=validation_data)], shuffle=True, verbose=0)"
   ]
  },
  {
   "cell_type": "code",
   "execution_count": null,
   "metadata": {},
   "outputs": [],
   "source": [
    "plot_learning(history_emb, metrics = [('roc-auc', 'val_roc-auc')])"
   ]
  },
  {
   "cell_type": "code",
   "execution_count": null,
   "metadata": {},
   "outputs": [],
   "source": []
  }
 ],
 "metadata": {
  "kernelspec": {
   "display_name": "Python 2",
   "language": "python",
   "name": "python2"
  },
  "language_info": {
   "codemirror_mode": {
    "name": "ipython",
    "version": 2
   },
   "file_extension": ".py",
   "mimetype": "text/x-python",
   "name": "python",
   "nbconvert_exporter": "python",
   "pygments_lexer": "ipython2",
   "version": "2.7.13"
  }
 },
 "nbformat": 4,
 "nbformat_minor": 2
}
